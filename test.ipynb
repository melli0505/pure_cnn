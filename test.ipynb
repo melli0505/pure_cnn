{
 "cells": [
  {
   "cell_type": "code",
   "execution_count": 78,
   "metadata": {},
   "outputs": [],
   "source": [
    "import numpy as np\n",
    "\n",
    "\n",
    "class FullyConnected:\n",
    "    def __init__(self, input_layer, hidden_layer: list, output_layer) -> None:\n",
    "        self.hidden_layer = hidden_layer\n",
    "        input_layer = input_layer\n",
    "        output_layer = output_layer\n",
    "\n",
    "        L = len(hidden_layer)\n",
    "\n",
    "        parameters = {}\n",
    "\n",
    "        parameters[\"w\" + str(1)] = (\n",
    "            np.random.randn(hidden_layer[0][\"units\"], input_layer.shape[0]) * 0.01\n",
    "        )\n",
    "        parameters[\"b\" + str(1)] = np.ones((hidden_layer[0][\"units\"], 1))\n",
    "        self.parameters[\"out\" + str(1)] = np.ones((hidden_layer[0][\"units\"], 1))\n",
    "        self.parameters[\"net\" + str(1)] = np.ones((hidden_layer[0][\"units\"], 1))\n",
    "\n",
    "        for i in range(1, len(hidden_layer)):\n",
    "            self.parameters[\"w\" + str(i + 1)] = (\n",
    "                np.random.randn(hidden_layer[i - 1][\"units\"], hidden_layer[i][\"units\"])\n",
    "                * 0.01\n",
    "            )\n",
    "            self.parameters[\"b\" + str(i + 1)] = np.ones((hidden_layer[i][\"units\"], 1))\n",
    "            self.parameters[\"out\" + str(i + 1)] = np.ones((hidden_layer[i][\"units\"], 1))\n",
    "            self.parameters[\"net\" + str(i + 1)] = np.ones((hidden_layer[i][\"units\"], 1))\n",
    "\n",
    "        self.parameters[\"c\"] = 1\n",
    "        self.derivatives = {}\n",
    "\n",
    "    def sigmoid(self, x):\n",
    "        return 1 / (1 + np.exp(-1 * x))\n",
    "\n",
    "    def feedforward(self, input_layer):\n",
    "        \"\"\"\n",
    "        w = weight matrix [   ]\n",
    "        x = value matrix [   ]\n",
    "        b = bias\n",
    "        \"\"\"\n",
    "        self.parameters[\"out0\"] = input_layer\n",
    "\n",
    "        for l in range(1, self.L + 1):\n",
    "            self.parameters[\"net\" + str(l)] = np.add(\n",
    "                np.dot(\n",
    "                    self.parameters[\"w\" + str(l)], self.parameters[\"out\" + str(l - 1)]\n",
    "                ),\n",
    "                self.parameters[\"b\" + str(l)],\n",
    "            )\n",
    "            self.parameters[\"out\" + str(l)] = self.sigmoid(\n",
    "                self.parameters[\"net\" + str(l)]\n",
    "            )\n",
    "\n",
    "    def calc_derivatives(self, y):\n",
    "        # 1. output layer 쪽 미분계수 구하기\n",
    "        # -(target_o - out_o) * out_o(1 - out_o) * out_h\n",
    "        self.parameters[\"d_out\" + str(self.L)] = -(\n",
    "            y - self.parameters[\"out\" + str(self.L)]\n",
    "        )\n",
    "        self.parameters[\"dw\" + str(self.L)] = self.parameters[\"d_out\" + str(self.L)] * self.parameters[\"out\" + str(self.L)] * (1 - self.parameters[\"out\" + str(self.L)]) * np.transpose([self.parameters[\"out\" + str(self.L - 1)]])\n",
    "        self.parameters[\"db\" + str(self.L)] = self.parameters[\"d_out\" + str(self.L)]\n",
    "\n",
    "        # 2. hidden layer 쪽 미분계수 구하기\n",
    "\n",
    "        for i in range(self.L-1, 1):\n",
    "            self.parameters[\"d_out\" + str(i)] = -(self.parameters[\"out\" + str(i+1)] - self.parameters[\"out\" + str(i)])\n",
    "            self.parameters[\"dw\" + str(i)] = self.parameters[\"d_out\" + str(i)] * self.parameters[\"out\" + str(i)] * (1 - self.parameters[\"out\" + str(i)]) * self.parameters(\"w\" + str(i)) * self.parameters[\"out\" + str(i-1)] * (1 - )\n",
    "\n",
    "    def backpropagation(self):\n",
    "        pass\n",
    "\n",
    "    def calc_cost(self, y):\n",
    "        # mean square error\n",
    "        self.parameters[\"c\"] = (1 / len(y)) * np.sum(\n",
    "            np.subtract(y, self.parameters[\"out\" + str(self.L)]) ** 2\n",
    "        )\n",
    "\n",
    "    def optimization(self):\n",
    "        pass\n"
   ]
  },
  {
   "cell_type": "code",
   "execution_count": 79,
   "metadata": {},
   "outputs": [
    {
     "name": "stdout",
     "output_type": "stream",
     "text": [
      "{'w1': array([[0.00207523, 0.0006083 ],\n",
      "       [0.00167595, 0.00515475]]), 'b1': array([[1.],\n",
      "       [1.]]), 'out1': array([[1.],\n",
      "       [1.]]), 'net1': array([[1.],\n",
      "       [1.]]), 'w2': array([[-0.01819469, -0.00973964],\n",
      "       [ 0.00288313,  0.0090881 ]]), 'b2': array([[1.],\n",
      "       [1.]]), 'out2': array([[1.],\n",
      "       [1.]]), 'net2': array([[1.],\n",
      "       [1.]]), 'c': 1}\n",
      "{'w1': array([[0.00207523, 0.0006083 ],\n",
      "       [0.00167595, 0.00515475]]), 'b1': array([[1.],\n",
      "       [1.]]), 'out1': array([[0.73109094, 0.73117639],\n",
      "       [0.73109094, 0.73117639]]), 'net1': array([[1.00016459, 1.00059927],\n",
      "       [1.00016459, 1.00059927]]), 'w2': array([[-0.01819469, -0.00973964],\n",
      "       [ 0.00288313,  0.0090881 ]]), 'b2': array([[1.],\n",
      "       [1.]]), 'out2': array([[0.72702437, 0.72702389],\n",
      "       [0.73277585, 0.73277606]]), 'net2': array([[0.97957746, 0.97957508],\n",
      "       [1.00875206, 1.00875309]]), 'c': 1, 'out0': array([0.05, 0.1 ])}\n"
     ]
    }
   ],
   "source": [
    "hidden_layer = [{\"name\": \"1\", \"units\": 2}, {\"name\": \"1\", \"units\": 2}]\n",
    "input_layer = np.array([0.05, 0.1])\n",
    "output_layer = []\n",
    "fc = FullyConnected(input_layer, hidden_layer, output_layer)\n",
    "print(fc.parameters)\n",
    "\n",
    "fc.feedforward(input_layer)\n",
    "print(fc.parameters)\n"
   ]
  },
  {
   "cell_type": "code",
   "execution_count": 201,
   "metadata": {},
   "outputs": [],
   "source": [
    "class Temp:\n",
    "    def __init__(self, parameter) -> None:\n",
    "        \n",
    "        self.parameters = parameter\n",
    "        self.derivatives = {}\n",
    "        self.L = 2\n",
    "\n",
    "    def sigmoid(self, x):\n",
    "        return 1/(1 + np.exp(-x))\n",
    "    \n",
    "    def sigmoid_prime(self, x):\n",
    "        return self.sigmoid(x)*(1.0 - self.sigmoid(x))\n",
    "\n",
    "    def forward_propagate(self, input_layer):\n",
    "        #Note that X here, is just one training example\n",
    "        self.parameters['a0'] = input_layer\n",
    "        \n",
    "        #Calculate the activations for every layer l\n",
    "        for l in range(1, self.L + 1):\n",
    "            self.parameters['net' + str(l)] = np.add(np.dot(self.parameters['w' + str(l)], self.parameters['out' + str(l - 1)]), self.parameters['b' + str(l)])\n",
    "            self.parameters['out' + str(l)] = self.sigmoid(self.parameters['net' + str(l)])\n",
    "        \n",
    "    def compute_cost(self, y):\n",
    "        self.parameters[\"c\"] = (1 / len(y)) * np.sum(\n",
    "            np.subtract(y, self.parameters[\"out\" + str(self.L)]) ** 2\n",
    "        )\n",
    "\n",
    "    def compute_derivatives(self, y):\n",
    "        #Partial derivatives of the cost function with respect to z[L], W[L] and b[L]:        \n",
    "        #dzL\n",
    "        self.derivatives['dz' + str(self.L)] = self.parameters['out' + str(self.L)] - y\n",
    "        #dWL\n",
    "        self.derivatives['dW' + str(self.L)] = np.dot(self.derivatives['dz' + str(self.L)], np.transpose(self.parameters['out' + str(self.L - 1)]))\n",
    "        #dbL\n",
    "        self.derivatives['db' + str(self.L)] = self.derivatives['dz' + str(self.L)]\n",
    "\n",
    "        #Partial derivatives of the cost function with respect to z[l], W[l] and b[l]\n",
    "        for l in range(self.L-1, 0, -1):\n",
    "            self.derivatives['dz' + str(l)] = np.dot(np.transpose(self.parameters['w' + str(l + 1)]), self.derivatives['dz' + str(l + 1)])*self.sigmoid_prime(self.parameters['net' + str(l)])\n",
    "            self.derivatives['dW' + str(l)] = np.dot(self.derivatives['dz' + str(l)], np.transpose(self.parameters['out' + str(l - 1)]))\n",
    "            self.derivatives['db' + str(l)] = self.derivatives['dz' + str(l)]\n",
    "\n",
    "    def update_parameters(self, alpha):\n",
    "        for l in range(1, self.L+1):\n",
    "            self.parameters['w' + str(l)] -= alpha*self.derivatives['dW' + str(l)]\n",
    "            # self.parameters['b' + str(l)] -= alpha*self.derivatives['db' + str(l)]\n",
    "                "
   ]
  },
  {
   "cell_type": "code",
   "execution_count": 202,
   "metadata": {},
   "outputs": [],
   "source": [
    "temp = Temp(fc.parameters)"
   ]
  },
  {
   "cell_type": "code",
   "execution_count": 203,
   "metadata": {},
   "outputs": [
    {
     "data": {
      "text/plain": [
       "{'w1': array([[0.14398594, 0.19398594],\n",
       "        [0.24398594, 0.29398594]]),\n",
       " 'b1': array([0.35]),\n",
       " 'out1': array([0.59305229, 0.5966673 ]),\n",
       " 'net1': array([0.37659789, 0.39159789]),\n",
       " 'w2': array([[0.4 , 0.45],\n",
       "        [0.5 , 0.55]]),\n",
       " 'b2': array([0.6]),\n",
       " 'out2': array([0.75133055, 0.7728884 ]),\n",
       " 'net2': array([1.1057212 , 1.22469316]),\n",
       " 'c': array([1.281179  , 0.26981799]),\n",
       " 'out0': array([0.05, 0.1 ]),\n",
       " 'd_out2': array([ 0.74136507, -0.21707153]),\n",
       " 'dw2': array([[ 0.08216704, -0.02260254],\n",
       "        [ 0.08266763, -0.02274024]]),\n",
       " 'db2': array([ 0.74136507, -0.21707153]),\n",
       " 'a0': array([0.05, 0.1 ])}"
      ]
     },
     "execution_count": 203,
     "metadata": {},
     "output_type": "execute_result"
    }
   ],
   "source": [
    "temp.forward_propagate(np.array([0.05, 0.1]))\n",
    "temp.parameters"
   ]
  },
  {
   "cell_type": "code",
   "execution_count": 204,
   "metadata": {},
   "outputs": [],
   "source": [
    "temp.compute_cost(np.array([0.1, 0.99]))"
   ]
  },
  {
   "cell_type": "code",
   "execution_count": 205,
   "metadata": {},
   "outputs": [],
   "source": [
    "temp.compute_derivatives(np.array([0.1, 0.99]))\n"
   ]
  },
  {
   "cell_type": "code",
   "execution_count": 206,
   "metadata": {},
   "outputs": [
    {
     "data": {
      "text/plain": [
       "array([0.01833909, 0.0208994 ])"
      ]
     },
     "execution_count": 206,
     "metadata": {},
     "output_type": "execute_result"
    }
   ],
   "source": [
    "temp.derivatives[\"db1\"] * 0.5"
   ]
  },
  {
   "cell_type": "code",
   "execution_count": 207,
   "metadata": {},
   "outputs": [],
   "source": [
    "temp.update_parameters(0.5)"
   ]
  },
  {
   "cell_type": "code",
   "execution_count": 208,
   "metadata": {},
   "outputs": [
    {
     "data": {
      "text/plain": [
       "{'w1': array([[0.14097904, 0.19097904],\n",
       "        [0.24097904, 0.29097904]]),\n",
       " 'b1': array([0.35]),\n",
       " 'out1': array([0.59305229, 0.5966673 ]),\n",
       " 'net1': array([0.37659789, 0.39159789]),\n",
       " 'w2': array([[0.27163516, 0.32163516],\n",
       "        [0.37163516, 0.42163516]]),\n",
       " 'b2': array([0.6]),\n",
       " 'out2': array([0.75133055, 0.7728884 ]),\n",
       " 'net2': array([1.1057212 , 1.22469316]),\n",
       " 'c': array([1.28105866, 0.26986754]),\n",
       " 'out0': array([0.05, 0.1 ]),\n",
       " 'd_out2': array([ 0.74136507, -0.21707153]),\n",
       " 'dw2': array([[ 0.08216704, -0.02260254],\n",
       "        [ 0.08266763, -0.02274024]]),\n",
       " 'db2': array([ 0.74136507, -0.21707153]),\n",
       " 'a0': array([0.05, 0.1 ])}"
      ]
     },
     "execution_count": 208,
     "metadata": {},
     "output_type": "execute_result"
    }
   ],
   "source": [
    "temp.parameters"
   ]
  },
  {
   "cell_type": "code",
   "execution_count": 80,
   "metadata": {},
   "outputs": [],
   "source": [
    "\n",
    "w1 = fc.parameters['w1']\n",
    "w1 = np.array(([0.15, 0.2], [0.25, 0.3]))\n",
    "fc.parameters['w1'] = w1\n",
    "b1 = fc.parameters['b1']\n",
    "b1 = np.array([0.35])\n",
    "fc.parameters['b1'] = b1\n",
    "\n",
    "w2 = fc.parameters['w2']\n",
    "w2 = np.array(([0.4, 0.45], [0.5, 0.55]))\n",
    "fc.parameters['w2'] = w2\n",
    "b2 = fc.parameters['b2']\n",
    "b2 = np.array([0.6])\n",
    "fc.parameters['b2'] = b2"
   ]
  },
  {
   "cell_type": "code",
   "execution_count": 154,
   "metadata": {},
   "outputs": [
    {
     "data": {
      "text/plain": [
       "{'w1': array([[0.15, 0.2 ],\n",
       "        [0.25, 0.3 ]]),\n",
       " 'b1': array([0.35]),\n",
       " 'out1': array([0.59326999, 0.59688438]),\n",
       " 'net1': array([0.3775, 0.3925]),\n",
       " 'w2': array([[0.4 , 0.45],\n",
       "        [0.5 , 0.55]]),\n",
       " 'b2': array([0.6]),\n",
       " 'out2': array([0.75136507, 0.77292847]),\n",
       " 'net2': array([1.10590597, 1.2249214 ]),\n",
       " 'c': 0.2983711087600027,\n",
       " 'out0': array([0.05, 0.1 ]),\n",
       " 'd_out2': array([ 0.74136507, -0.21707153]),\n",
       " 'dw2': array([[ 0.08216704, -0.02260254],\n",
       "        [ 0.08266763, -0.02274024]]),\n",
       " 'db2': array([ 0.74136507, -0.21707153])}"
      ]
     },
     "execution_count": 154,
     "metadata": {},
     "output_type": "execute_result"
    }
   ],
   "source": [
    "fc.parameters"
   ]
  },
  {
   "cell_type": "code",
   "execution_count": 82,
   "metadata": {},
   "outputs": [
    {
     "data": {
      "text/plain": [
       "array([0.3775, 0.3925])"
      ]
     },
     "execution_count": 82,
     "metadata": {},
     "output_type": "execute_result"
    }
   ],
   "source": [
    "np.add(np.dot(w1, fc.parameters['out0']), b1) "
   ]
  },
  {
   "cell_type": "code",
   "execution_count": 83,
   "metadata": {},
   "outputs": [],
   "source": [
    "fc.feedforward(input_layer)\n",
    "\n",
    "net1 = fc.parameters['net1']\n",
    "out1 = fc.parameters['out1']\n",
    "net2 = fc.parameters['net2']\n",
    "out2 = fc.parameters['out2']"
   ]
  },
  {
   "cell_type": "code",
   "execution_count": 84,
   "metadata": {},
   "outputs": [
    {
     "data": {
      "text/plain": [
       "{'w1': array([[0.15, 0.2 ],\n",
       "        [0.25, 0.3 ]]),\n",
       " 'b1': array([0.35]),\n",
       " 'out1': array([0.59326999, 0.59688438]),\n",
       " 'net1': array([0.3775, 0.3925]),\n",
       " 'w2': array([[0.4 , 0.45],\n",
       "        [0.5 , 0.55]]),\n",
       " 'b2': array([0.6]),\n",
       " 'out2': array([0.75136507, 0.77292847]),\n",
       " 'net2': array([1.10590597, 1.2249214 ]),\n",
       " 'c': 1,\n",
       " 'out0': array([0.05, 0.1 ])}"
      ]
     },
     "execution_count": 84,
     "metadata": {},
     "output_type": "execute_result"
    }
   ],
   "source": [
    "fc.parameters"
   ]
  },
  {
   "cell_type": "code",
   "execution_count": 85,
   "metadata": {},
   "outputs": [
    {
     "data": {
      "text/plain": [
       "array([0.59326999, 0.59688438])"
      ]
     },
     "execution_count": 85,
     "metadata": {},
     "output_type": "execute_result"
    }
   ],
   "source": [
    "out1"
   ]
  },
  {
   "cell_type": "code",
   "execution_count": 86,
   "metadata": {},
   "outputs": [],
   "source": [
    "y = np.array([0.01, 0.99])"
   ]
  },
  {
   "cell_type": "code",
   "execution_count": 87,
   "metadata": {},
   "outputs": [
    {
     "data": {
      "text/plain": [
       "array([[ 0.08216704, -0.02210583],\n",
       "       [ 0.08452515, -0.02274024]])"
      ]
     },
     "execution_count": 87,
     "metadata": {},
     "output_type": "execute_result"
    }
   ],
   "source": [
    "-(y - out2) *np.transpose([out2]) * np.array([1-out2]) * out1"
   ]
  },
  {
   "cell_type": "code",
   "execution_count": 94,
   "metadata": {},
   "outputs": [
    {
     "data": {
      "text/plain": [
       "array([[ 0.08216704, -0.02260254],\n",
       "       [ 0.08266763, -0.02274024]])"
      ]
     },
     "execution_count": 94,
     "metadata": {},
     "output_type": "execute_result"
    }
   ],
   "source": [
    "-(y - out2) *(out2 * (1-out2)) * np.transpose([out1])\n"
   ]
  },
  {
   "cell_type": "code",
   "execution_count": 89,
   "metadata": {},
   "outputs": [],
   "source": [
    "fc.calc_derivatives(y)"
   ]
  },
  {
   "cell_type": "code",
   "execution_count": 96,
   "metadata": {},
   "outputs": [],
   "source": [
    "fc.calc_cost(y)"
   ]
  },
  {
   "cell_type": "code",
   "execution_count": 97,
   "metadata": {},
   "outputs": [
    {
     "data": {
      "text/plain": [
       "{'w1': array([[0.15, 0.2 ],\n",
       "        [0.25, 0.3 ]]),\n",
       " 'b1': array([0.35]),\n",
       " 'out1': array([0.59326999, 0.59688438]),\n",
       " 'net1': array([0.3775, 0.3925]),\n",
       " 'w2': array([[0.4 , 0.45],\n",
       "        [0.5 , 0.55]]),\n",
       " 'b2': array([0.6]),\n",
       " 'out2': array([0.75136507, 0.77292847]),\n",
       " 'net2': array([1.10590597, 1.2249214 ]),\n",
       " 'c': 0.2983711087600027,\n",
       " 'out0': array([0.05, 0.1 ]),\n",
       " 'd_out2': array([ 0.74136507, -0.21707153]),\n",
       " 'dw2': array([[ 0.08216704, -0.02260254],\n",
       "        [ 0.08266763, -0.02274024]]),\n",
       " 'db2': array([ 0.74136507, -0.21707153])}"
      ]
     },
     "execution_count": 97,
     "metadata": {},
     "output_type": "execute_result"
    }
   ],
   "source": [
    "fc.parameters"
   ]
  },
  {
   "cell_type": "code",
   "execution_count": 107,
   "metadata": {},
   "outputs": [],
   "source": [
    "d_out1 = -(y - out2)\n",
    "dw1 = d_out1 * out2 * (1-out2) * w2\n"
   ]
  },
  {
   "cell_type": "code",
   "execution_count": 112,
   "metadata": {},
   "outputs": [
    {
     "data": {
      "text/plain": [
       "array([ 0.74136507, -0.21707153])"
      ]
     },
     "execution_count": 112,
     "metadata": {},
     "output_type": "execute_result"
    }
   ],
   "source": [
    "d_out1"
   ]
  },
  {
   "cell_type": "code",
   "execution_count": 113,
   "metadata": {},
   "outputs": [
    {
     "data": {
      "text/plain": [
       "array([0.1868156 , 0.17551005])"
      ]
     },
     "execution_count": 113,
     "metadata": {},
     "output_type": "execute_result"
    }
   ],
   "source": [
    "out2 * (1-out2)"
   ]
  },
  {
   "cell_type": "code",
   "execution_count": 114,
   "metadata": {},
   "outputs": [
    {
     "data": {
      "text/plain": [
       "array([ 0.13849856, -0.03809824])"
      ]
     },
     "execution_count": 114,
     "metadata": {},
     "output_type": "execute_result"
    }
   ],
   "source": [
    "d_out1 * out2 * (1-out2)"
   ]
  },
  {
   "cell_type": "code",
   "execution_count": 146,
   "metadata": {},
   "outputs": [
    {
     "data": {
      "text/plain": [
       "array([0.03635031, 0.04137032])"
      ]
     },
     "execution_count": 146,
     "metadata": {},
     "output_type": "execute_result"
    }
   ],
   "source": [
    "partial = np.dot(d_out1 * out2 * (1-out2), w2)\n",
    "partial"
   ]
  },
  {
   "cell_type": "code",
   "execution_count": 148,
   "metadata": {},
   "outputs": [
    {
     "data": {
      "text/plain": [
       "array([0.24130071, 0.24061342])"
      ]
     },
     "execution_count": 148,
     "metadata": {},
     "output_type": "execute_result"
    }
   ],
   "source": [
    "outout = out1 * (1-out1)\n",
    "outout"
   ]
  },
  {
   "cell_type": "code",
   "execution_count": 153,
   "metadata": {},
   "outputs": [
    {
     "data": {
      "text/plain": [
       "array([0.00877135, 0.00995425])"
      ]
     },
     "execution_count": 153,
     "metadata": {},
     "output_type": "execute_result"
    }
   ],
   "source": [
    "partial * outout"
   ]
  },
  {
   "cell_type": "code",
   "execution_count": 143,
   "metadata": {},
   "outputs": [
    {
     "data": {
      "text/plain": [
       "array([[ 0.06232435, -0.02095403]])"
      ]
     },
     "execution_count": 143,
     "metadata": {},
     "output_type": "execute_result"
    }
   ],
   "source": [
    "np.dot(d_out1 * out2 * (1-out2), np.array([[0.45], [0.55]]))\n",
    "d_out1 * out2 * (1-out2)* np.array([[0.45, 0.55]])"
   ]
  },
  {
   "cell_type": "code",
   "execution_count": 140,
   "metadata": {},
   "outputs": [
    {
     "data": {
      "text/plain": [
       "array([[0.00043857, 0.00049771],\n",
       "       [0.00087714, 0.00099543]])"
      ]
     },
     "execution_count": 140,
     "metadata": {},
     "output_type": "execute_result"
    }
   ],
   "source": [
    "np.dot(d_out1 * out2 * (1-out2), w2) * out1 * (1-out1) * np.transpose([fc.parameters['out0']])"
   ]
  },
  {
   "cell_type": "code",
   "execution_count": null,
   "metadata": {},
   "outputs": [],
   "source": []
  }
 ],
 "metadata": {
  "kernelspec": {
   "display_name": "Python 3",
   "language": "python",
   "name": "python3"
  },
  "language_info": {
   "codemirror_mode": {
    "name": "ipython",
    "version": 3
   },
   "file_extension": ".py",
   "mimetype": "text/x-python",
   "name": "python",
   "nbconvert_exporter": "python",
   "pygments_lexer": "ipython3",
   "version": "3.9.13"
  }
 },
 "nbformat": 4,
 "nbformat_minor": 2
}
