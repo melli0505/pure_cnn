{
 "cells": [
  {
   "cell_type": "code",
   "execution_count": 236,
   "metadata": {},
   "outputs": [],
   "source": [
    "import numpy as np\n",
    "\n",
    "\n",
    "class FullyConnected:\n",
    "    def __init__(self, input_layer, hidden_layer: list, output_layer) -> None:\n",
    "        self.hidden_layer = hidden_layer\n",
    "        input_layer = input_layer\n",
    "        output_layer = output_layer\n",
    "\n",
    "        self.L = len(hidden_layer)\n",
    "\n",
    "        self.parameters = {}\n",
    "\n",
    "        self.parameters[\"w\" + str(1)] = (\n",
    "            np.random.randn(hidden_layer[0][\"units\"], input_layer.shape[0]) * 0.01\n",
    "        )\n",
    "        self.parameters[\"b\" + str(1)] = np.ones((hidden_layer[0][\"units\"], 1))\n",
    "        self.parameters[\"out\" + str(1)] = np.ones((hidden_layer[0][\"units\"], 1))\n",
    "        self.parameters[\"net\" + str(1)] = np.ones((hidden_layer[0][\"units\"], 1))\n",
    "\n",
    "        for i in range(1, len(hidden_layer)):\n",
    "            self.parameters[\"w\" + str(i + 1)] = (\n",
    "                np.random.randn(hidden_layer[i - 1][\"units\"], hidden_layer[i][\"units\"])\n",
    "                * 0.01\n",
    "            )\n",
    "            self.parameters[\"b\" + str(i + 1)] = np.ones((hidden_layer[i][\"units\"], 1))\n",
    "            self.parameters[\"out\" + str(i + 1)] = np.ones((hidden_layer[i][\"units\"], 1))\n",
    "            self.parameters[\"net\" + str(i + 1)] = np.ones((hidden_layer[i][\"units\"], 1))\n",
    "\n",
    "        self.parameters[\"c\"] = 1\n",
    "        self.derivatives = {}\n",
    "\n",
    "    def sigmoid(self, x):\n",
    "        return 1 / (1 + np.exp(-1 * x))\n",
    "\n",
    "    def feedforward(self, input_layer):\n",
    "        \"\"\"\n",
    "        w = weight matrix [   ]\n",
    "        x = value matrix [   ]\n",
    "        b = bias\n",
    "        \"\"\"\n",
    "        self.parameters[\"out0\"] = input_layer\n",
    "\n",
    "        for l in range(1, self.L + 1):\n",
    "            self.parameters[\"net\" + str(l)] = np.add(\n",
    "                np.dot(\n",
    "                    self.parameters[\"w\" + str(l)], self.parameters[\"out\" + str(l - 1)]\n",
    "                ),\n",
    "                self.parameters[\"b\" + str(l)],\n",
    "            )\n",
    "            self.parameters[\"out\" + str(l)] = self.sigmoid(\n",
    "                self.parameters[\"net\" + str(l)]\n",
    "            )\n",
    "\n",
    "    def calc_derivatives(self, y):\n",
    "        #Partial derivatives of the cost function with respect to z[L], W[L] and b[L]:        \n",
    "        #Partial derivatives of the cost function with respect to z[l], W[l] and b[l]\n",
    "        # 1. output layer 쪽 미분계수 구하기\n",
    "        # -(target_o - out_o) * out_o(1 - out_o) * out_h\n",
    "        #dzL\n",
    "        self.derivatives['dz' + str(self.L)] = self.parameters['out' + str(self.L)] - y\n",
    "        #dWL\n",
    "        self.derivatives['dW' + str(self.L)] = self.parameters[\"dz\" + str(self.L)] * self.parameters[\"out\" + str(self.L)] * (1 - self.parameters[\"out\" + str(self.L)]) * np.transpose([self.parameters[\"out\" + str(self.L - 1)]])\n",
    "        #dbL\n",
    "        self.derivatives['db' + str(self.L)] = self.derivatives['dz' + str(self.L)]\n",
    "\n",
    "\n",
    "        # 2. hidden layer 쪽 미분계수 구하기\n",
    "        for l in range(self.L-1, 0, -1):\n",
    "            self.derivatives['dz' + str(l)] = np.dot(np.transpose(self.parameters['w' + str(l + 1)]), self.derivatives['dz' + str(l + 1)])*self.sigmoid_prime(self.parameters['net' + str(l)])\n",
    "            self.derivatives['dW' + str(l)] = np.dot(self.derivatives['dz' + str(l)], np.transpose(self.parameters['out' + str(l - 1)]))\n",
    "            self.derivatives['db' + str(l)] = self.derivatives['dz' + str(l)]\n",
    "            \n",
    "    def backpropagation(self):\n",
    "        pass\n",
    "\n",
    "    def calc_cost(self, y):\n",
    "        # mean square error\n",
    "        self.parameters[\"c\"] = 0.5 * np.sum(\n",
    "            np.subtract(y, self.parameters[\"out\" + str(self.L)]) ** 2\n",
    "        )\n",
    "\n",
    "    def optimization(self):\n",
    "        pass\n"
   ]
  },
  {
   "cell_type": "code",
   "execution_count": 237,
   "metadata": {},
   "outputs": [
    {
     "name": "stdout",
     "output_type": "stream",
     "text": [
      "{'w1': array([[ 0.01217507, -0.00025459],\n",
      "       [ 0.00948438,  0.00181529]]), 'b1': array([[1.],\n",
      "       [1.]]), 'out1': array([[1.],\n",
      "       [1.]]), 'net1': array([[1.],\n",
      "       [1.]]), 'w2': array([[-0.01631533, -0.00666241],\n",
      "       [ 0.00213496,  0.00875436]]), 'b2': array([[1.],\n",
      "       [1.]]), 'out2': array([[1.],\n",
      "       [1.]]), 'net2': array([[1.],\n",
      "       [1.]]), 'c': 1}\n",
      "{'w1': array([[ 0.01217507, -0.00025459],\n",
      "       [ 0.00948438,  0.00181529]]), 'b1': array([[1.],\n",
      "       [1.]]), 'out1': array([[0.73117325, 0.73118749],\n",
      "       [0.73117325, 0.73118749]]), 'net1': array([[1.00058329, 1.00065575],\n",
      "       [1.00058329, 1.00065575]]), 'w2': array([[-0.01631533, -0.00666241],\n",
      "       [ 0.00213496,  0.00875436]]), 'b2': array([[1.],\n",
      "       [1.]]), 'out2': array([[0.72774256, 0.7277425 ],\n",
      "       [0.73262112, 0.73262115]]), 'net2': array([[0.98319929, 0.98319896],\n",
      "       [1.00796198, 1.00796214]]), 'c': 1, 'out0': array([0.05, 0.1 ])}\n"
     ]
    }
   ],
   "source": [
    "hidden_layer = [{\"name\": \"1\", \"units\": 2}, {\"name\": \"1\", \"units\": 2}]\n",
    "input_layer = np.array([0.05, 0.1])\n",
    "output_layer = []\n",
    "fc = FullyConnected(input_layer, hidden_layer, output_layer)\n",
    "print(fc.parameters)\n",
    "\n",
    "fc.feedforward(input_layer)\n",
    "print(fc.parameters)\n"
   ]
  },
  {
   "cell_type": "code",
   "execution_count": null,
   "metadata": {},
   "outputs": [],
   "source": [
    "class Temp:\n",
    "    def __init__(self, parameter) -> None:\n",
    "        \n",
    "        self.parameters = parameter\n",
    "        self.derivatives = {}\n",
    "        self.L = 2\n",
    "\n",
    "    def sigmoid(self, x):\n",
    "        return 1/(1 + np.exp(-x))\n",
    "    \n",
    "    def sigmoid_prime(self, x):\n",
    "        return self.sigmoid(x)*(1.0 - self.sigmoid(x))\n",
    "\n",
    "    def forward_propagate(self, input_layer):\n",
    "        #Note that X here, is just one training example\n",
    "        self.parameters['a0'] = input_layer\n",
    "        \n",
    "        #Calculate the activations for every layer l\n",
    "        for l in range(1, self.L + 1):\n",
    "            self.parameters['net' + str(l)] = np.add(np.dot(self.parameters['w' + str(l)], self.parameters['out' + str(l - 1)]), self.parameters['b' + str(l)])\n",
    "            self.parameters['out' + str(l)] = self.sigmoid(self.parameters['net' + str(l)])\n",
    "        \n",
    "    def compute_cost(self, y):\n",
    "        self.parameters[\"c\"] = (1 / len(y)) * np.sum(\n",
    "            np.subtract(y, self.parameters[\"out\" + str(self.L)]) ** 2\n",
    "        )\n",
    "\n",
    "    def compute_derivatives(self, y):\n",
    "        #Partial derivatives of the cost function with respect to z[L], W[L] and b[L]:        \n",
    "        #dzL\n",
    "        self.derivatives['dz' + str(self.L)] = self.parameters['out' + str(self.L)] - y\n",
    "        #dWL\n",
    "        self.derivatives['dW' + str(self.L)] = self.parameters[\"dz\" + str(self.L)] * self.parameters[\"out\" + str(self.L)] * (1 - self.parameters[\"out\" + str(self.L)]) * np.transpose([self.parameters[\"out\" + str(self.L - 1)]])\n",
    "        #dbL\n",
    "        self.derivatives['db' + str(self.L)] = self.derivatives['dz' + str(self.L)]\n",
    "\n",
    "        #Partial derivatives of the cost function with respect to z[l], W[l] and b[l]\n",
    "        for l in range(self.L-1, 0, -1):\n",
    "            self.derivatives['dz' + str(l)] = np.dot(np.transpose(self.parameters['w' + str(l + 1)]), self.derivatives['dz' + str(l + 1)])*self.sigmoid_prime(self.parameters['net' + str(l)])\n",
    "            self.derivatives['dW' + str(l)] = np.dot(self.derivatives['dz' + str(l)], np.transpose(self.parameters['out' + str(l - 1)]))\n",
    "            self.derivatives['db' + str(l)] = self.derivatives['dz' + str(l)]\n",
    "\n",
    "    def update_parameters(self, alpha):\n",
    "        for l in range(1, self.L+1):\n",
    "            self.parameters['w' + str(l)] -= alpha*self.derivatives['dW' + str(l)]\n",
    "            # self.parameters['b' + str(l)] -= alpha*self.derivatives['db' + str(l)]\n",
    "                "
   ]
  },
  {
   "cell_type": "code",
   "execution_count": null,
   "metadata": {},
   "outputs": [],
   "source": [
    "temp = Temp(fc.parameters)"
   ]
  },
  {
   "cell_type": "code",
   "execution_count": 238,
   "metadata": {},
   "outputs": [],
   "source": [
    "\n",
    "w1 = fc.parameters['w1']\n",
    "w1 = np.array(([0.15, 0.2], [0.25, 0.3]))\n",
    "fc.parameters['w1'] = w1\n",
    "b1 = fc.parameters['b1']\n",
    "b1 = np.array([0.35])\n",
    "fc.parameters['b1'] = b1\n",
    "\n",
    "w2 = fc.parameters['w2']\n",
    "w2 = np.array(([0.4, 0.45], [0.5, 0.55]))\n",
    "fc.parameters['w2'] = w2\n",
    "b2 = fc.parameters['b2']\n",
    "b2 = np.array([0.6])\n",
    "fc.parameters['b2'] = b2"
   ]
  },
  {
   "cell_type": "code",
   "execution_count": 243,
   "metadata": {},
   "outputs": [
    {
     "data": {
      "text/plain": [
       "{'w1': array([[0.15, 0.2 ],\n",
       "        [0.25, 0.3 ]]),\n",
       " 'b1': array([0.35]),\n",
       " 'out1': array([0.59326999, 0.59688438]),\n",
       " 'net1': array([0.3775, 0.3925]),\n",
       " 'w2': array([[0.4 , 0.45],\n",
       "        [0.5 , 0.55]]),\n",
       " 'b2': array([0.6]),\n",
       " 'out2': array([0.75136507, 0.77292847]),\n",
       " 'net2': array([1.10590597, 1.2249214 ]),\n",
       " 'c': 0.2983711087600027,\n",
       " 'out0': array([0.05, 0.1 ])}"
      ]
     },
     "execution_count": 243,
     "metadata": {},
     "output_type": "execute_result"
    }
   ],
   "source": [
    "fc.parameters"
   ]
  },
  {
   "cell_type": "code",
   "execution_count": null,
   "metadata": {},
   "outputs": [],
   "source": [
    "np.add(np.dot(w1, fc.parameters['out0']), b1) "
   ]
  },
  {
   "cell_type": "code",
   "execution_count": 240,
   "metadata": {},
   "outputs": [],
   "source": [
    "fc.feedforward(input_layer)\n",
    "\n",
    "net1 = fc.parameters['net1']\n",
    "out1 = fc.parameters['out1']\n",
    "net2 = fc.parameters['net2']\n",
    "out2 = fc.parameters['out2']"
   ]
  },
  {
   "cell_type": "code",
   "execution_count": 265,
   "metadata": {},
   "outputs": [],
   "source": [
    "fc.derivatives = {}"
   ]
  },
  {
   "cell_type": "code",
   "execution_count": 266,
   "metadata": {},
   "outputs": [
    {
     "data": {
      "text/plain": [
       "{'da2': array([ 0.74136507, -0.21707153]),\n",
       " 'dz2': array([0.1868156 , 0.17551005]),\n",
       " 'dw2': array([[ 0.08216704,  0.08266763],\n",
       "        [-0.02260254, -0.02274024]])}"
      ]
     },
     "execution_count": 266,
     "metadata": {},
     "output_type": "execute_result"
    }
   ],
   "source": [
    "L = 2\n",
    "# fc.derivatives\n",
    "\n",
    "# 1. output\n",
    "fc.derivatives[\"da\" + str(L)] = -(y - fc.parameters[\"out\" + str(L)])\n",
    "fc.derivatives[\"dz\" + str(L)] = fc.parameters[\"out\" + str(L)] * (1 - fc.parameters[\"out\" + str(L)])\n",
    "fc.derivatives[\"dw\" + str(L)] = np.transpose([fc.derivatives[\"da\" + str(L)] * fc.derivatives[\"dz\" + str(L)]]) * fc.parameters[\"out\" + str(L-1)]\n",
    "\n",
    "fc.derivatives"
   ]
  },
  {
   "cell_type": "code",
   "execution_count": 269,
   "metadata": {},
   "outputs": [],
   "source": [
    "# 2. hidden\n",
    "for l in range(L-1, 0, -1):\n",
    "    fc.derivatives[\"dw\" + str(l)] = fc.derivatives[\"dw\" + str(l+1)] * (1 / fc.parameters[\"out\" + str(l)]) * fc.parameters[\"w\" + str(l+1)] * fc.parameters[\"out\" + str(l)] * (1 - fc.parameters[\"out\" + str(l)]) * fc.parameters[\"out\" + str(l-1)]"
   ]
  },
  {
   "cell_type": "code",
   "execution_count": 302,
   "metadata": {},
   "outputs": [
    {
     "data": {
      "text/plain": [
       "(array([[ 0.0006684 , -0.00022983],\n",
       "        [ 0.00149961, -0.00050418]]),\n",
       " array([[ 0.0006684 ,  0.00149961],\n",
       "        [-0.00022983, -0.00050418]]))"
      ]
     },
     "execution_count": 302,
     "metadata": {},
     "output_type": "execute_result"
    }
   ],
   "source": [
    "fc.derivatives[\"dw1\"].T, fc.derivatives[\"dw1\"]"
   ]
  },
  {
   "cell_type": "code",
   "execution_count": 298,
   "metadata": {},
   "outputs": [
    {
     "data": {
      "text/plain": [
       "(array([[ 0.05539942, -0.01714421],\n",
       "        [ 0.06924928, -0.02095403]]),\n",
       " array([0.24130071, 0.24061342]),\n",
       " array([[ 0.0006684 ,  0.00166623],\n",
       "        [-0.00020685, -0.00050418]]))"
      ]
     },
     "execution_count": 298,
     "metadata": {},
     "output_type": "execute_result"
    }
   ],
   "source": [
    "da = np.transpose(fc.derivatives[\"da\" + str(l+1)]) * fc.derivatives[\"dz\" + str(l+1)] * fc.parameters[\"w\" + str(l+1)]\n",
    "dz = fc.parameters[\"out\" + str(l)] * (1 - fc.parameters[\"out\" + str(l)])\n",
    "dw = np.transpose(da) * dz * fc.parameters[\"out\" + str(0)]\n",
    "da, dz, dw"
   ]
  },
  {
   "cell_type": "code",
   "execution_count": null,
   "metadata": {},
   "outputs": [],
   "source": [
    "y = np.array([0.01, 0.99])"
   ]
  },
  {
   "cell_type": "code",
   "execution_count": null,
   "metadata": {},
   "outputs": [],
   "source": [
    "-(y - out2) *np.transpose([out2]) * np.array([1-out2]) * out1"
   ]
  },
  {
   "cell_type": "code",
   "execution_count": null,
   "metadata": {},
   "outputs": [],
   "source": [
    "-(y - out2) *(out2 * (1-out2)) * np.transpose([out1])\n"
   ]
  },
  {
   "cell_type": "code",
   "execution_count": null,
   "metadata": {},
   "outputs": [],
   "source": [
    "fc.calc_derivatives(y)"
   ]
  },
  {
   "cell_type": "code",
   "execution_count": 242,
   "metadata": {},
   "outputs": [],
   "source": [
    "fc.calc_cost(y)"
   ]
  },
  {
   "cell_type": "code",
   "execution_count": null,
   "metadata": {},
   "outputs": [],
   "source": [
    "fc.parameters"
   ]
  },
  {
   "cell_type": "code",
   "execution_count": null,
   "metadata": {},
   "outputs": [],
   "source": [
    "d_out1 = -(y - out2)\n",
    "dw1 = d_out1 * out2 * (1-out2) * w2\n"
   ]
  },
  {
   "cell_type": "code",
   "execution_count": null,
   "metadata": {},
   "outputs": [],
   "source": [
    "d_out1"
   ]
  },
  {
   "cell_type": "code",
   "execution_count": null,
   "metadata": {},
   "outputs": [],
   "source": [
    "out2 * (1-out2)"
   ]
  },
  {
   "cell_type": "code",
   "execution_count": null,
   "metadata": {},
   "outputs": [],
   "source": [
    "d_out1 * out2 * (1-out2)"
   ]
  },
  {
   "cell_type": "code",
   "execution_count": null,
   "metadata": {},
   "outputs": [],
   "source": [
    "partial = np.dot(d_out1 * out2 * (1-out2), w2)\n",
    "partial"
   ]
  },
  {
   "cell_type": "code",
   "execution_count": null,
   "metadata": {},
   "outputs": [],
   "source": [
    "outout = out1 * (1-out1)\n",
    "outout"
   ]
  },
  {
   "cell_type": "code",
   "execution_count": null,
   "metadata": {},
   "outputs": [],
   "source": [
    "partial * outout"
   ]
  },
  {
   "cell_type": "code",
   "execution_count": null,
   "metadata": {},
   "outputs": [],
   "source": [
    "np.dot(d_out1 * out2 * (1-out2), np.array([[0.45], [0.55]]))\n",
    "d_out1 * out2 * (1-out2)* np.array([[0.45, 0.55]])"
   ]
  },
  {
   "cell_type": "code",
   "execution_count": null,
   "metadata": {},
   "outputs": [],
   "source": [
    "np.dot(d_out1 * out2 * (1-out2), w2) * out1 * (1-out1) * np.transpose([fc.parameters['out0']])"
   ]
  },
  {
   "cell_type": "code",
   "execution_count": 305,
   "metadata": {},
   "outputs": [
    {
     "data": {
      "text/plain": [
       "(3, 3, 3)"
      ]
     },
     "execution_count": 305,
     "metadata": {},
     "output_type": "execute_result"
    }
   ],
   "source": [
    "\n",
    "kernel_height, kernel_width = (3, 3)\n",
    "filters = np.random.random(\n",
    "    (8, 3, kernel_height, kernel_width)\n",
    ")  # get filter든 뭐든 get_filter(filterNum=filterNum, size=width)\n",
    "filters[0].shape"
   ]
  }
 ],
 "metadata": {
  "kernelspec": {
   "display_name": "Python 3",
   "language": "python",
   "name": "python3"
  },
  "language_info": {
   "codemirror_mode": {
    "name": "ipython",
    "version": 3
   },
   "file_extension": ".py",
   "mimetype": "text/x-python",
   "name": "python",
   "nbconvert_exporter": "python",
   "pygments_lexer": "ipython3",
   "version": "3.9.13"
  }
 },
 "nbformat": 4,
 "nbformat_minor": 2
}
